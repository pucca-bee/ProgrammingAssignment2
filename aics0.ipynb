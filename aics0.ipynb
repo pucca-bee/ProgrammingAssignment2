{
  "nbformat": 4,
  "nbformat_minor": 0,
  "metadata": {
    "colab": {
      "provenance": [],
      "authorship_tag": "ABX9TyOPK8MUHbrvmI1Z+akeIe4F",
      "include_colab_link": true
    },
    "kernelspec": {
      "name": "python3",
      "display_name": "Python 3"
    },
    "language_info": {
      "name": "python"
    }
  },
  "cells": [
    {
      "cell_type": "markdown",
      "metadata": {
        "id": "view-in-github",
        "colab_type": "text"
      },
      "source": [
        "<a href=\"https://colab.research.google.com/github/pucca-bee/ProgrammingAssignment2/blob/master/aics0.ipynb\" target=\"_parent\"><img src=\"https://colab.research.google.com/assets/colab-badge.svg\" alt=\"Open In Colab\"/></a>"
      ]
    },
    {
      "cell_type": "code",
      "execution_count": 1,
      "metadata": {
        "id": "a9JdiHWAbaSZ"
      },
      "outputs": [],
      "source": [
        "#creating a list"
      ]
    },
    {
      "cell_type": "code",
      "source": [
        "list1=[11,12,13,14,15]"
      ],
      "metadata": {
        "id": "QqHcZtKgchMr"
      },
      "execution_count": 2,
      "outputs": []
    },
    {
      "cell_type": "code",
      "source": [
        "#creating a dictionary"
      ],
      "metadata": {
        "id": "u0lPcdF1cuIn"
      },
      "execution_count": 3,
      "outputs": []
    },
    {
      "cell_type": "code",
      "source": [
        "dict1={1:'k1',2:'k2',3:'k3'} "
      ],
      "metadata": {
        "id": "s74jMrZjdnR2"
      },
      "execution_count": 6,
      "outputs": []
    },
    {
      "cell_type": "code",
      "source": [
        "#creating a list of dictionary"
      ],
      "metadata": {
        "id": "Jfr2Y3-qd6-0"
      },
      "execution_count": 7,
      "outputs": []
    },
    {
      "cell_type": "code",
      "source": [
        "dataset1=[{8:'priyanshi'},{9:'purva'},{31:'ayush',54:'rahul'}]"
      ],
      "metadata": {
        "id": "Gckp56acflky"
      },
      "execution_count": 10,
      "outputs": []
    },
    {
      "cell_type": "code",
      "source": [],
      "metadata": {
        "id": "wdUHYRWEgHFP"
      },
      "execution_count": null,
      "outputs": []
    }
  ]
}